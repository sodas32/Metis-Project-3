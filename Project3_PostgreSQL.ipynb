{
 "cells": [
  {
   "cell_type": "markdown",
   "metadata": {},
   "source": [
    "### Inserting Data into PostgreSQL"
   ]
  },
  {
   "cell_type": "markdown",
   "metadata": {},
   "source": [
    "#### Table created in PostgreSQL for this project is called \"diabetic_ret\""
   ]
  },
  {
   "cell_type": "code",
   "execution_count": 2,
   "metadata": {},
   "outputs": [
    {
     "name": "stdout",
     "output_type": "stream",
     "text": [
      "Collecting psycopg2\n",
      "  Downloading psycopg2-2.8.5.tar.gz (380 kB)\n",
      "\u001b[K     |████████████████████████████████| 380 kB 1.6 MB/s eta 0:00:01\n",
      "\u001b[?25hBuilding wheels for collected packages: psycopg2\n",
      "  Building wheel for psycopg2 (setup.py) ... \u001b[?25ldone\n",
      "\u001b[?25h  Created wheel for psycopg2: filename=psycopg2-2.8.5-cp37-cp37m-macosx_10_9_x86_64.whl size=136140 sha256=b3addd2ade63b934346ebfde62cf2bafdfdb16f67eec1232ecc38a7e892c9edd\n",
      "  Stored in directory: /Users/sonalidasgupta/Library/Caches/pip/wheels/69/74/ec/7764aea035627654bf137f89a91405ac239c569ce10ae87137\n",
      "Successfully built psycopg2\n",
      "Installing collected packages: psycopg2\n",
      "Successfully installed psycopg2-2.8.5\n"
     ]
    }
   ],
   "source": [
    "!pip install psycopg2"
   ]
  },
  {
   "cell_type": "code",
   "execution_count": 1,
   "metadata": {},
   "outputs": [],
   "source": [
    "#Import packages\n",
    "\n",
    "import csv\n",
    "import pandas as pd\n",
    "\n",
    "import pandas.io.sql as pd_sql\n",
    "\n",
    "from collections import defaultdict\n",
    "\n",
    "import os\n",
    "\n",
    "import psycopg2 as pg\n",
    "from psycopg2.extensions import ISOLATION_LEVEL_AUTOCOMMIT\n",
    "from psycopg2 import OperationalError, errorcodes, errors\n",
    "\n",
    "from tqdm import tqdm\n",
    "\n",
    "import pprint as pp"
   ]
  },
  {
   "cell_type": "code",
   "execution_count": 2,
   "metadata": {},
   "outputs": [
    {
     "data": {
      "text/html": [
       "<div>\n",
       "<style scoped>\n",
       "    .dataframe tbody tr th:only-of-type {\n",
       "        vertical-align: middle;\n",
       "    }\n",
       "\n",
       "    .dataframe tbody tr th {\n",
       "        vertical-align: top;\n",
       "    }\n",
       "\n",
       "    .dataframe thead th {\n",
       "        text-align: right;\n",
       "    }\n",
       "</style>\n",
       "<table border=\"1\" class=\"dataframe\">\n",
       "  <thead>\n",
       "    <tr style=\"text-align: right;\">\n",
       "      <th></th>\n",
       "      <th>id</th>\n",
       "      <th>_0</th>\n",
       "      <th>_1</th>\n",
       "      <th>_2</th>\n",
       "      <th>_3</th>\n",
       "      <th>_4</th>\n",
       "      <th>_5</th>\n",
       "      <th>_6</th>\n",
       "      <th>_7</th>\n",
       "      <th>_8</th>\n",
       "      <th>...</th>\n",
       "      <th>_10</th>\n",
       "      <th>_11</th>\n",
       "      <th>_12</th>\n",
       "      <th>_13</th>\n",
       "      <th>_14</th>\n",
       "      <th>_15</th>\n",
       "      <th>_16</th>\n",
       "      <th>_17</th>\n",
       "      <th>_18</th>\n",
       "      <th>Class</th>\n",
       "    </tr>\n",
       "  </thead>\n",
       "  <tbody>\n",
       "    <tr>\n",
       "      <th>0</th>\n",
       "      <td>1</td>\n",
       "      <td>1</td>\n",
       "      <td>1</td>\n",
       "      <td>22</td>\n",
       "      <td>22</td>\n",
       "      <td>22</td>\n",
       "      <td>19</td>\n",
       "      <td>18</td>\n",
       "      <td>14</td>\n",
       "      <td>49.895756</td>\n",
       "      <td>...</td>\n",
       "      <td>5.270920</td>\n",
       "      <td>0.771761</td>\n",
       "      <td>0.018632</td>\n",
       "      <td>0.006864</td>\n",
       "      <td>0.003923</td>\n",
       "      <td>0.003923</td>\n",
       "      <td>0.486903</td>\n",
       "      <td>0.100025</td>\n",
       "      <td>1</td>\n",
       "      <td>0</td>\n",
       "    </tr>\n",
       "    <tr>\n",
       "      <th>1</th>\n",
       "      <td>2</td>\n",
       "      <td>1</td>\n",
       "      <td>1</td>\n",
       "      <td>24</td>\n",
       "      <td>24</td>\n",
       "      <td>22</td>\n",
       "      <td>18</td>\n",
       "      <td>16</td>\n",
       "      <td>13</td>\n",
       "      <td>57.709936</td>\n",
       "      <td>...</td>\n",
       "      <td>3.325423</td>\n",
       "      <td>0.234185</td>\n",
       "      <td>0.003903</td>\n",
       "      <td>0.003903</td>\n",
       "      <td>0.003903</td>\n",
       "      <td>0.003903</td>\n",
       "      <td>0.520908</td>\n",
       "      <td>0.144414</td>\n",
       "      <td>0</td>\n",
       "      <td>0</td>\n",
       "    </tr>\n",
       "    <tr>\n",
       "      <th>2</th>\n",
       "      <td>3</td>\n",
       "      <td>1</td>\n",
       "      <td>1</td>\n",
       "      <td>62</td>\n",
       "      <td>60</td>\n",
       "      <td>59</td>\n",
       "      <td>54</td>\n",
       "      <td>47</td>\n",
       "      <td>33</td>\n",
       "      <td>55.831441</td>\n",
       "      <td>...</td>\n",
       "      <td>12.687485</td>\n",
       "      <td>4.852282</td>\n",
       "      <td>1.393889</td>\n",
       "      <td>0.373252</td>\n",
       "      <td>0.041817</td>\n",
       "      <td>0.007744</td>\n",
       "      <td>0.530904</td>\n",
       "      <td>0.128548</td>\n",
       "      <td>0</td>\n",
       "      <td>1</td>\n",
       "    </tr>\n",
       "    <tr>\n",
       "      <th>3</th>\n",
       "      <td>4</td>\n",
       "      <td>1</td>\n",
       "      <td>1</td>\n",
       "      <td>55</td>\n",
       "      <td>53</td>\n",
       "      <td>53</td>\n",
       "      <td>50</td>\n",
       "      <td>43</td>\n",
       "      <td>31</td>\n",
       "      <td>40.467228</td>\n",
       "      <td>...</td>\n",
       "      <td>9.118901</td>\n",
       "      <td>3.079428</td>\n",
       "      <td>0.840261</td>\n",
       "      <td>0.272434</td>\n",
       "      <td>0.007653</td>\n",
       "      <td>0.001531</td>\n",
       "      <td>0.483284</td>\n",
       "      <td>0.114790</td>\n",
       "      <td>0</td>\n",
       "      <td>0</td>\n",
       "    </tr>\n",
       "    <tr>\n",
       "      <th>4</th>\n",
       "      <td>5</td>\n",
       "      <td>1</td>\n",
       "      <td>1</td>\n",
       "      <td>44</td>\n",
       "      <td>44</td>\n",
       "      <td>44</td>\n",
       "      <td>41</td>\n",
       "      <td>39</td>\n",
       "      <td>27</td>\n",
       "      <td>18.026254</td>\n",
       "      <td>...</td>\n",
       "      <td>0.410381</td>\n",
       "      <td>0.000000</td>\n",
       "      <td>0.000000</td>\n",
       "      <td>0.000000</td>\n",
       "      <td>0.000000</td>\n",
       "      <td>0.000000</td>\n",
       "      <td>0.475935</td>\n",
       "      <td>0.123572</td>\n",
       "      <td>0</td>\n",
       "      <td>1</td>\n",
       "    </tr>\n",
       "  </tbody>\n",
       "</table>\n",
       "<p>5 rows × 21 columns</p>\n",
       "</div>"
      ],
      "text/plain": [
       "   id  _0  _1  _2  _3  _4  _5  _6  _7         _8  ...        _10       _11  \\\n",
       "0   1   1   1  22  22  22  19  18  14  49.895756  ...   5.270920  0.771761   \n",
       "1   2   1   1  24  24  22  18  16  13  57.709936  ...   3.325423  0.234185   \n",
       "2   3   1   1  62  60  59  54  47  33  55.831441  ...  12.687485  4.852282   \n",
       "3   4   1   1  55  53  53  50  43  31  40.467228  ...   9.118901  3.079428   \n",
       "4   5   1   1  44  44  44  41  39  27  18.026254  ...   0.410381  0.000000   \n",
       "\n",
       "        _12       _13       _14       _15       _16       _17  _18  Class  \n",
       "0  0.018632  0.006864  0.003923  0.003923  0.486903  0.100025    1      0  \n",
       "1  0.003903  0.003903  0.003903  0.003903  0.520908  0.144414    0      0  \n",
       "2  1.393889  0.373252  0.041817  0.007744  0.530904  0.128548    0      1  \n",
       "3  0.840261  0.272434  0.007653  0.001531  0.483284  0.114790    0      0  \n",
       "4  0.000000  0.000000  0.000000  0.000000  0.475935  0.123572    0      1  \n",
       "\n",
       "[5 rows x 21 columns]"
      ]
     },
     "execution_count": 2,
     "metadata": {},
     "output_type": "execute_result"
    }
   ],
   "source": [
    "#Get file from local computer \n",
    "\n",
    "sd_sample = pd.read_csv('dr.csv')\n",
    "sd_sample.head()"
   ]
  },
  {
   "cell_type": "markdown",
   "metadata": {},
   "source": [
    "#### Create Table Statement "
   ]
  },
  {
   "cell_type": "code",
   "execution_count": 3,
   "metadata": {},
   "outputs": [
    {
     "data": {
      "text/plain": [
       "id         int64\n",
       "_0         int64\n",
       "_1         int64\n",
       "_2         int64\n",
       "_3         int64\n",
       "_4         int64\n",
       "_5         int64\n",
       "_6         int64\n",
       "_7         int64\n",
       "_8       float64\n",
       "_9       float64\n",
       "_10      float64\n",
       "_11      float64\n",
       "_12      float64\n",
       "_13      float64\n",
       "_14      float64\n",
       "_15      float64\n",
       "_16      float64\n",
       "_17      float64\n",
       "_18        int64\n",
       "Class      int64\n",
       "dtype: object"
      ]
     },
     "execution_count": 3,
     "metadata": {},
     "output_type": "execute_result"
    }
   ],
   "source": [
    "#Get types of variables \n",
    "\n",
    "sd_sample.dtypes"
   ]
  },
  {
   "cell_type": "code",
   "execution_count": 4,
   "metadata": {},
   "outputs": [
    {
     "data": {
      "text/plain": [
       "Index(['id', '_0', '_1', '_2', '_3', '_4', '_5', '_6', '_7', '_8', '_9', '_10',\n",
       "       '_11', '_12', '_13', '_14', '_15', '_16', '_17', '_18', 'Class'],\n",
       "      dtype='object')"
      ]
     },
     "execution_count": 4,
     "metadata": {},
     "output_type": "execute_result"
    }
   ],
   "source": [
    "sd_sample.columns"
   ]
  },
  {
   "cell_type": "code",
   "execution_count": null,
   "metadata": {},
   "outputs": [],
   "source": []
  },
  {
   "cell_type": "code",
   "execution_count": 5,
   "metadata": {},
   "outputs": [],
   "source": [
    "#Create table statement:\n",
    "def create_table_statement(df, table_name):\n",
    "    \"\"\"\n",
    "        Helper function to make \"CREATE TABLE\" statement for psql\n",
    "        \n",
    "        :param df: a pandas DateFrame object\n",
    "        :param table_name: name of new table in psql as string\n",
    "        :return create_table: \"CREATE TABLE\" statement for psql as string\n",
    "    \"\"\"\n",
    "    \n",
    "    col_names = df.dtypes.index.values\n",
    "    dtypes = df.dtypes.values\n",
    "\n",
    "    #every name in psql is lowercase by default\n",
    "    table_name = table_name.lower()\n",
    "\n",
    "    #statement for creating the table in psql\n",
    "    create_table = \"CREATE TABLE IF NOT EXISTS %s (\\n\" %table_name  \n",
    "\n",
    "    for idx, col_name in enumerate(col_names):\n",
    "        #get the datatype for the current column\n",
    "        dtype = dtypes[idx]\n",
    "\n",
    "        #lowercase and remove spaces from column names\n",
    "        col_name = col_name.lower().replace(' ', '_')\n",
    "        #simply formatting so it prints more cleanly\n",
    "        create_table += \"\\t\"\n",
    "\n",
    "        #assign column types and default values of null\n",
    "        if dtype == 'int64':\n",
    "            create_table = create_table + col_name + \" INT DEFAULT NULL\"\n",
    "\n",
    "        elif dtype == 'float64':\n",
    "            create_table = create_table + col_name + \" DECIMAL DEFAULT NULL\"\n",
    "\n",
    "        #add a comma and start next line on \n",
    "        #another line for cleaner print format\n",
    "        #if this is not the last line\n",
    "        if idx != len(col_names) - 1:\n",
    "            create_table += \", \\n\"\n",
    "\n",
    "    #newline for cleaner print format and ; for execution\n",
    "    create_table += \"\\n);\"\n",
    "\n",
    "    print (create_table)\n",
    "    \n",
    "    return create_table"
   ]
  },
  {
   "cell_type": "code",
   "execution_count": 9,
   "metadata": {},
   "outputs": [
    {
     "name": "stdout",
     "output_type": "stream",
     "text": [
      "CREATE TABLE IF NOT EXISTS sd_data (\n",
      "\tid INT DEFAULT NULL, \n",
      "\t_0 INT DEFAULT NULL, \n",
      "\t_1 INT DEFAULT NULL, \n",
      "\t_2 INT DEFAULT NULL, \n",
      "\t_3 INT DEFAULT NULL, \n",
      "\t_4 INT DEFAULT NULL, \n",
      "\t_5 INT DEFAULT NULL, \n",
      "\t_6 INT DEFAULT NULL, \n",
      "\t_7 INT DEFAULT NULL, \n",
      "\t_8 DECIMAL DEFAULT NULL, \n",
      "\t_9 DECIMAL DEFAULT NULL, \n",
      "\t_10 DECIMAL DEFAULT NULL, \n",
      "\t_11 DECIMAL DEFAULT NULL, \n",
      "\t_12 DECIMAL DEFAULT NULL, \n",
      "\t_13 DECIMAL DEFAULT NULL, \n",
      "\t_14 DECIMAL DEFAULT NULL, \n",
      "\t_15 DECIMAL DEFAULT NULL, \n",
      "\t_16 DECIMAL DEFAULT NULL, \n",
      "\t_17 DECIMAL DEFAULT NULL, \n",
      "\t_18 INT DEFAULT NULL, \n",
      "\tclass INT DEFAULT NULL\n",
      ");\n"
     ]
    }
   ],
   "source": [
    "create_table = create_table_statement(sd_sample, 'sd_data')"
   ]
  },
  {
   "cell_type": "markdown",
   "metadata": {},
   "source": [
    "#### Connect to PostgreSQL "
   ]
  },
  {
   "cell_type": "code",
   "execution_count": 6,
   "metadata": {},
   "outputs": [],
   "source": [
    "connection_args = {'host': '52.52.92.166',\n",
    "                   'user':'ubuntu', \n",
    "                   'password':'',\n",
    "                   'port': 5432}"
   ]
  },
  {
   "cell_type": "code",
   "execution_count": 7,
   "metadata": {},
   "outputs": [],
   "source": [
    "#Connect to psql \n",
    "\n",
    "connection = pg.connect(**connection_args)\n",
    "\n",
    "#if you want to autocommit instead, comment out if not\n",
    "connection.autocommit = True\n",
    "\n",
    "cursor = connection.cursor()\n",
    "\n",
    "#if you want to autocommit instead, comment out if not\n",
    "connection.set_isolation_level(ISOLATION_LEVEL_AUTOCOMMIT)"
   ]
  },
  {
   "cell_type": "code",
   "execution_count": 8,
   "metadata": {},
   "outputs": [],
   "source": [
    "#Close and then connect using database I created \n",
    "\n",
    "connection.close()\n",
    "\n",
    "connection_args['dbname'] = 'diabetic_ret'\n",
    "connection = pg.connect(**connection_args)\n",
    "\n",
    "cursor = connection.cursor()\n",
    "\n",
    "#if you want to autocommit instead, comment out if not\n",
    "connection.set_isolation_level(ISOLATION_LEVEL_AUTOCOMMIT)"
   ]
  },
  {
   "cell_type": "code",
   "execution_count": 17,
   "metadata": {},
   "outputs": [],
   "source": [
    "#create table in psql\n",
    "cursor.execute(create_table)"
   ]
  },
  {
   "cell_type": "code",
   "execution_count": 18,
   "metadata": {},
   "outputs": [],
   "source": [
    "#Insert table \n",
    "\n",
    "def insert_table_statement(df, table_name):\n",
    "    \"\"\"\n",
    "        Function to make \"INSERT INTO\" statement for psql\n",
    "        \n",
    "        :param df: a pandas DateFrame object\n",
    "        :param table_name: name of new table in psql as string\n",
    "        :return insert_statement: \"INSERT INTO\" statement for psql as string\n",
    "    \"\"\"\n",
    "    \n",
    "    col_names = df.columns\n",
    "    \n",
    "    #statement for inserting values into table\n",
    "    insert_statement = \"INSERT INTO %s (\" %table_name\n",
    "    values = \" VALUES (\"\n",
    "    insert_statement\n",
    "\n",
    "    for idx, col_name in enumerate(col_names):\n",
    "\n",
    "        #lowercase and remove spaces from column names\n",
    "        #as we did before with the table\n",
    "        col_name = col_name.lower().replace(' ', '_')\n",
    "\n",
    "        #adding columns to insert statement\n",
    "        #also formatting after every 4th column for cleaner print format\n",
    "        if idx % 4 == 0 and idx != 0:\n",
    "            insert_statement = insert_statement + '\\n\\t\\t\\t' + col_name\n",
    "        else:\n",
    "            insert_statement = insert_statement + col_name \n",
    "\n",
    "        #append a %s to values for every col_name\n",
    "        #this is for substituting the values in later\n",
    "        values += \"%s\"\n",
    "\n",
    "        #exit loop if this the last column\n",
    "        if idx == len(col_names) - 1:\n",
    "            break\n",
    "\n",
    "        insert_statement += \", \"\n",
    "        values += \", \"\n",
    "\n",
    "    insert_statement += \")\"\n",
    "    values += \");\"\n",
    "\n",
    "    insert_statement = insert_statement + '\\n' + values\n",
    "\n",
    "    print(insert_statement)\n",
    "    \n",
    "    return insert_statement"
   ]
  },
  {
   "cell_type": "code",
   "execution_count": 19,
   "metadata": {},
   "outputs": [
    {
     "name": "stdout",
     "output_type": "stream",
     "text": [
      "INSERT INTO sd_data (id, _0, _1, _2, \n",
      "\t\t\t_3, _4, _5, _6, \n",
      "\t\t\t_7, _8, _9, _10, \n",
      "\t\t\t_11, _12, _13, _14, \n",
      "\t\t\t_15, _16, _17, _18, \n",
      "\t\t\tclass)\n",
      " VALUES (%s, %s, %s, %s, %s, %s, %s, %s, %s, %s, %s, %s, %s, %s, %s, %s, %s, %s, %s, %s, %s);\n"
     ]
    },
    {
     "data": {
      "text/plain": [
       "'INSERT INTO sd_data (id, _0, _1, _2, \\n\\t\\t\\t_3, _4, _5, _6, \\n\\t\\t\\t_7, _8, _9, _10, \\n\\t\\t\\t_11, _12, _13, _14, \\n\\t\\t\\t_15, _16, _17, _18, \\n\\t\\t\\tclass)\\n VALUES (%s, %s, %s, %s, %s, %s, %s, %s, %s, %s, %s, %s, %s, %s, %s, %s, %s, %s, %s, %s, %s);'"
      ]
     },
     "execution_count": 19,
     "metadata": {},
     "output_type": "execute_result"
    }
   ],
   "source": [
    "insert_table_statement(sd_sample, 'sd_data')"
   ]
  },
  {
   "cell_type": "code",
   "execution_count": 12,
   "metadata": {},
   "outputs": [
    {
     "name": "stdout",
     "output_type": "stream",
     "text": [
      "\u001b[34mDatasets\u001b[m\u001b[m                                Project2-WebScraping_EDA.ipynb\r\n",
      "Metis Project 2 Presentation_Sonali.pdf \u001b[34mPython Challenges\u001b[m\u001b[m\r\n",
      "\u001b[34mPair Programming Exercises\u001b[m\u001b[m              Quiz 1 answers.ipynb\r\n",
      "Project 1-EDA .ipynb                    confusion_matrix_knn_mvp.png\r\n",
      "Project 2-Linear Regression.ipynb       confusion_matrix_logit_mvp.png\r\n",
      "Project 3-Classification .ipynb         dr_messidorfeatures.csv\r\n",
      "Project 3-PostgreSQL.ipynb              \u001b[34msodas32.github.io\u001b[m\u001b[m\r\n"
     ]
    }
   ],
   "source": [
    "!ls"
   ]
  },
  {
   "cell_type": "code",
   "execution_count": 9,
   "metadata": {
    "scrolled": true
   },
   "outputs": [
    {
     "ename": "InvalidTextRepresentation",
     "evalue": "invalid input syntax for integer: \"id,_0,_1,_2,_3,_4,_5,_6,_7,_8,_9,_10,_11,_12,_13,_14,_15,_16,_17,_18,Class\"\nCONTEXT:  COPY sd_data, line 1, column id: \"id,_0,_1,_2,_3,_4,_5,_6,_7,_8,_9,_10,_11,_12,_13,_14,_15,_16,_17,_18,Class\"\n",
     "output_type": "error",
     "traceback": [
      "\u001b[0;31m---------------------------------------------------------------------------\u001b[0m",
      "\u001b[0;31mInvalidTextRepresentation\u001b[0m                 Traceback (most recent call last)",
      "\u001b[0;32m<ipython-input-9-0d0ffa9fdfa5>\u001b[0m in \u001b[0;36m<module>\u001b[0;34m\u001b[0m\n\u001b[1;32m      9\u001b[0m \u001b[0;34m\u001b[0m\u001b[0m\n\u001b[1;32m     10\u001b[0m \u001b[0;31m#copy data to psql table\u001b[0m\u001b[0;34m\u001b[0m\u001b[0;34m\u001b[0m\u001b[0;34m\u001b[0m\u001b[0m\n\u001b[0;32m---> 11\u001b[0;31m \u001b[0mcursor\u001b[0m\u001b[0;34m.\u001b[0m\u001b[0mcopy_from\u001b[0m\u001b[0;34m(\u001b[0m\u001b[0mf\u001b[0m\u001b[0;34m,\u001b[0m \u001b[0mtable_name\u001b[0m\u001b[0;34m)\u001b[0m\u001b[0;34m\u001b[0m\u001b[0;34m\u001b[0m\u001b[0m\n\u001b[0m\u001b[1;32m     12\u001b[0m \u001b[0;34m\u001b[0m\u001b[0m\n\u001b[1;32m     13\u001b[0m \u001b[0;31m#save data to psql table\u001b[0m\u001b[0;34m\u001b[0m\u001b[0;34m\u001b[0m\u001b[0;34m\u001b[0m\u001b[0m\n",
      "\u001b[0;31mInvalidTextRepresentation\u001b[0m: invalid input syntax for integer: \"id,_0,_1,_2,_3,_4,_5,_6,_7,_8,_9,_10,_11,_12,_13,_14,_15,_16,_17,_18,Class\"\nCONTEXT:  COPY sd_data, line 1, column id: \"id,_0,_1,_2,_3,_4,_5,_6,_7,_8,_9,_10,_11,_12,_13,_14,_15,_16,_17,_18,Class\"\n"
     ]
    }
   ],
   "source": [
    "#ex: COPY AllstarFull FROM '/home/ubuntu/baseballdata/AllstarFull.csv' DELIMITER ',' CSV HEADER;\n",
    "#COPY statement in psql as string\n",
    "#copy_statement = \"COPY \" + 'sd_data' + \" FROM \" +  path + \" DELIMITER ',' CSV HEADER;\"\n",
    "#/Users/sonalidasgupta/Metis /dr.csv\n",
    "\n",
    "table_name = \"sd_data\"\n",
    "\n",
    "f = open('dr.csv', encoding='utf-8', errors = 'ignore')\n",
    "\n",
    "#copy data to psql table\n",
    "cursor.copy_from(f, table_name)\n",
    "\n",
    "#save data to psql table\n",
    "connection.commit()"
   ]
  },
  {
   "cell_type": "markdown",
   "metadata": {},
   "source": [
    "### After this, I ended up loading data into psql directly from my csv (dr.csv) in AWS \n",
    "##### Database name: diabetic_ret\n",
    "##### Table name: sd_data"
   ]
  }
 ],
 "metadata": {
  "kernelspec": {
   "display_name": "Python 3",
   "language": "python",
   "name": "python3"
  },
  "language_info": {
   "codemirror_mode": {
    "name": "ipython",
    "version": 3
   },
   "file_extension": ".py",
   "mimetype": "text/x-python",
   "name": "python",
   "nbconvert_exporter": "python",
   "pygments_lexer": "ipython3",
   "version": "3.7.6"
  }
 },
 "nbformat": 4,
 "nbformat_minor": 4
}
